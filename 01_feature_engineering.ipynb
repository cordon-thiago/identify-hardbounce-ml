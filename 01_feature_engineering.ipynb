{
 "cells": [
  {
   "cell_type": "code",
   "execution_count": 1,
   "metadata": {},
   "outputs": [],
   "source": [
    "# Import libraries\n",
    "import pandas as pd\n",
    "import numpy as np\n",
    "import seaborn as sns\n",
    "from functions import aux_functions"
   ]
  },
  {
   "cell_type": "markdown",
   "metadata": {},
   "source": [
    "## Read Dataset"
   ]
  },
  {
   "cell_type": "code",
   "execution_count": 2,
   "metadata": {},
   "outputs": [],
   "source": [
    "hardbounce = pd.read_csv('datasets/hardbounce_sample.csv',sep=';')"
   ]
  },
  {
   "cell_type": "code",
   "execution_count": 3,
   "metadata": {},
   "outputs": [
    {
     "data": {
      "text/plain": [
       "(500000, 4)"
      ]
     },
     "execution_count": 3,
     "metadata": {},
     "output_type": "execute_result"
    }
   ],
   "source": [
    "hardbounce.shape"
   ]
  },
  {
   "cell_type": "code",
   "execution_count": 4,
   "metadata": {},
   "outputs": [
    {
     "data": {
      "text/plain": [
       "email             object\n",
       "flgHardBounce    float64\n",
       "regDate           object\n",
       "birthDate         object\n",
       "dtype: object"
      ]
     },
     "execution_count": 4,
     "metadata": {},
     "output_type": "execute_result"
    }
   ],
   "source": [
    "hardbounce.dtypes"
   ]
  },
  {
   "cell_type": "markdown",
   "metadata": {},
   "source": [
    "## Remove rows with Y variable missing"
   ]
  },
  {
   "cell_type": "code",
   "execution_count": 5,
   "metadata": {},
   "outputs": [
    {
     "data": {
      "text/html": [
       "<div>\n",
       "<style scoped>\n",
       "    .dataframe tbody tr th:only-of-type {\n",
       "        vertical-align: middle;\n",
       "    }\n",
       "\n",
       "    .dataframe tbody tr th {\n",
       "        vertical-align: top;\n",
       "    }\n",
       "\n",
       "    .dataframe thead th {\n",
       "        text-align: right;\n",
       "    }\n",
       "</style>\n",
       "<table border=\"1\" class=\"dataframe\">\n",
       "  <thead>\n",
       "    <tr style=\"text-align: right;\">\n",
       "      <th></th>\n",
       "      <th>col</th>\n",
       "      <th>perc_missing</th>\n",
       "    </tr>\n",
       "  </thead>\n",
       "  <tbody>\n",
       "    <tr>\n",
       "      <th>1</th>\n",
       "      <td>flgHardBounce</td>\n",
       "      <td>3.3208</td>\n",
       "    </tr>\n",
       "    <tr>\n",
       "      <th>0</th>\n",
       "      <td>email</td>\n",
       "      <td>0.0000</td>\n",
       "    </tr>\n",
       "    <tr>\n",
       "      <th>2</th>\n",
       "      <td>regDate</td>\n",
       "      <td>0.0000</td>\n",
       "    </tr>\n",
       "    <tr>\n",
       "      <th>3</th>\n",
       "      <td>birthDate</td>\n",
       "      <td>0.0000</td>\n",
       "    </tr>\n",
       "  </tbody>\n",
       "</table>\n",
       "</div>"
      ],
      "text/plain": [
       "             col  perc_missing\n",
       "1  flgHardBounce        3.3208\n",
       "0          email        0.0000\n",
       "2        regDate        0.0000\n",
       "3      birthDate        0.0000"
      ]
     },
     "execution_count": 5,
     "metadata": {},
     "output_type": "execute_result"
    }
   ],
   "source": [
    "aux_functions.percMissing(hardbounce)"
   ]
  },
  {
   "cell_type": "code",
   "execution_count": 6,
   "metadata": {},
   "outputs": [],
   "source": [
    "# Made a dataframe copy to avoid chaining operations warnings\n",
    "# https://www.dataquest.io/blog/settingwithcopywarning/\n",
    "hardbounce_2 = hardbounce[hardbounce['flgHardBounce'].notnull()].copy()"
   ]
  },
  {
   "cell_type": "code",
   "execution_count": 7,
   "metadata": {},
   "outputs": [
    {
     "data": {
      "text/html": [
       "<div>\n",
       "<style scoped>\n",
       "    .dataframe tbody tr th:only-of-type {\n",
       "        vertical-align: middle;\n",
       "    }\n",
       "\n",
       "    .dataframe tbody tr th {\n",
       "        vertical-align: top;\n",
       "    }\n",
       "\n",
       "    .dataframe thead th {\n",
       "        text-align: right;\n",
       "    }\n",
       "</style>\n",
       "<table border=\"1\" class=\"dataframe\">\n",
       "  <thead>\n",
       "    <tr style=\"text-align: right;\">\n",
       "      <th></th>\n",
       "      <th>col</th>\n",
       "      <th>perc_missing</th>\n",
       "    </tr>\n",
       "  </thead>\n",
       "  <tbody>\n",
       "    <tr>\n",
       "      <th>0</th>\n",
       "      <td>email</td>\n",
       "      <td>0.0</td>\n",
       "    </tr>\n",
       "    <tr>\n",
       "      <th>1</th>\n",
       "      <td>flgHardBounce</td>\n",
       "      <td>0.0</td>\n",
       "    </tr>\n",
       "    <tr>\n",
       "      <th>2</th>\n",
       "      <td>regDate</td>\n",
       "      <td>0.0</td>\n",
       "    </tr>\n",
       "    <tr>\n",
       "      <th>3</th>\n",
       "      <td>birthDate</td>\n",
       "      <td>0.0</td>\n",
       "    </tr>\n",
       "  </tbody>\n",
       "</table>\n",
       "</div>"
      ],
      "text/plain": [
       "             col  perc_missing\n",
       "0          email           0.0\n",
       "1  flgHardBounce           0.0\n",
       "2        regDate           0.0\n",
       "3      birthDate           0.0"
      ]
     },
     "execution_count": 7,
     "metadata": {},
     "output_type": "execute_result"
    }
   ],
   "source": [
    "aux_functions.percMissing(hardbounce_2)"
   ]
  },
  {
   "cell_type": "code",
   "execution_count": 8,
   "metadata": {},
   "outputs": [
    {
     "data": {
      "text/plain": [
       "(483396, 4)"
      ]
     },
     "execution_count": 8,
     "metadata": {},
     "output_type": "execute_result"
    }
   ],
   "source": [
    "hardbounce_2.shape"
   ]
  },
  {
   "cell_type": "markdown",
   "metadata": {},
   "source": [
    "## Convert Datatypes"
   ]
  },
  {
   "cell_type": "code",
   "execution_count": 9,
   "metadata": {},
   "outputs": [],
   "source": [
    "hardbounce_2['flgHardBounce_n'] = hardbounce_2.flgHardBounce.astype(int)"
   ]
  },
  {
   "cell_type": "code",
   "execution_count": 10,
   "metadata": {},
   "outputs": [],
   "source": [
    "hardbounce_2['regDate_n'] = pd.to_datetime(hardbounce_2['regDate'])"
   ]
  },
  {
   "cell_type": "code",
   "execution_count": 11,
   "metadata": {},
   "outputs": [],
   "source": [
    "hardbounce_2['birthDate_n'] = pd.to_datetime(hardbounce_2['birthDate'], errors = 'coerce')"
   ]
  },
  {
   "cell_type": "code",
   "execution_count": 12,
   "metadata": {},
   "outputs": [
    {
     "data": {
      "text/plain": [
       "email                      object\n",
       "flgHardBounce             float64\n",
       "regDate                    object\n",
       "birthDate                  object\n",
       "flgHardBounce_n             int64\n",
       "regDate_n          datetime64[ns]\n",
       "birthDate_n        datetime64[ns]\n",
       "dtype: object"
      ]
     },
     "execution_count": 12,
     "metadata": {},
     "output_type": "execute_result"
    }
   ],
   "source": [
    "hardbounce_2.dtypes"
   ]
  },
  {
   "cell_type": "markdown",
   "metadata": {},
   "source": [
    "## Threat invalid register dates\n",
    "\n",
    "Dates before 1950-01-01 will be considered missing"
   ]
  },
  {
   "cell_type": "code",
   "execution_count": 13,
   "metadata": {},
   "outputs": [
    {
     "data": {
      "text/plain": [
       "519"
      ]
     },
     "execution_count": 13,
     "metadata": {},
     "output_type": "execute_result"
    }
   ],
   "source": [
    "len(hardbounce_2[hardbounce_2['regDate_n'] <= '1950-01-01'])"
   ]
  },
  {
   "cell_type": "code",
   "execution_count": 14,
   "metadata": {},
   "outputs": [],
   "source": [
    "hardbounce_2.loc[hardbounce_2.regDate_n <= '1950-01-01', 'regDate_n'] = pd.NaT"
   ]
  },
  {
   "cell_type": "code",
   "execution_count": 15,
   "metadata": {},
   "outputs": [
    {
     "data": {
      "text/plain": [
       "519"
      ]
     },
     "execution_count": 15,
     "metadata": {},
     "output_type": "execute_result"
    }
   ],
   "source": [
    "len(hardbounce_2[hardbounce_2['regDate_n'].isnull()])"
   ]
  },
  {
   "cell_type": "markdown",
   "metadata": {},
   "source": [
    "## Threat invalid birth dates\n",
    "\n",
    "Dates before 1919-01-01 will be considered missing"
   ]
  },
  {
   "cell_type": "code",
   "execution_count": 16,
   "metadata": {},
   "outputs": [
    {
     "data": {
      "text/plain": [
       "79419"
      ]
     },
     "execution_count": 16,
     "metadata": {},
     "output_type": "execute_result"
    }
   ],
   "source": [
    "len(hardbounce_2[hardbounce_2['birthDate_n'] <= '1919-01-01'])"
   ]
  },
  {
   "cell_type": "code",
   "execution_count": 17,
   "metadata": {},
   "outputs": [],
   "source": [
    "hardbounce_2.loc[hardbounce_2.birthDate_n <= '1919-01-01', 'birthDate_n'] = pd.NaT"
   ]
  },
  {
   "cell_type": "code",
   "execution_count": 18,
   "metadata": {},
   "outputs": [
    {
     "data": {
      "text/plain": [
       "79535"
      ]
     },
     "execution_count": 18,
     "metadata": {},
     "output_type": "execute_result"
    }
   ],
   "source": [
    "len(hardbounce_2[hardbounce_2['birthDate_n'].isnull()])"
   ]
  },
  {
   "cell_type": "markdown",
   "metadata": {},
   "source": [
    "## Calculate time since registration"
   ]
  },
  {
   "cell_type": "code",
   "execution_count": 19,
   "metadata": {},
   "outputs": [],
   "source": [
    "from datetime import date\n",
    "\n",
    "curr_date = pd.to_datetime(date.today())"
   ]
  },
  {
   "cell_type": "code",
   "execution_count": 20,
   "metadata": {},
   "outputs": [],
   "source": [
    "hardbounce_2['monthsSinceRegDate'] = (curr_date - hardbounce_2['regDate_n']) / np.timedelta64(1, 'M')"
   ]
  },
  {
   "cell_type": "code",
   "execution_count": 21,
   "metadata": {},
   "outputs": [
    {
     "data": {
      "text/html": [
       "<div>\n",
       "<style scoped>\n",
       "    .dataframe tbody tr th:only-of-type {\n",
       "        vertical-align: middle;\n",
       "    }\n",
       "\n",
       "    .dataframe tbody tr th {\n",
       "        vertical-align: top;\n",
       "    }\n",
       "\n",
       "    .dataframe thead th {\n",
       "        text-align: right;\n",
       "    }\n",
       "</style>\n",
       "<table border=\"1\" class=\"dataframe\">\n",
       "  <thead>\n",
       "    <tr style=\"text-align: right;\">\n",
       "      <th></th>\n",
       "      <th>col</th>\n",
       "      <th>perc_missing</th>\n",
       "    </tr>\n",
       "  </thead>\n",
       "  <tbody>\n",
       "    <tr>\n",
       "      <th>6</th>\n",
       "      <td>birthDate_n</td>\n",
       "      <td>16.453384</td>\n",
       "    </tr>\n",
       "    <tr>\n",
       "      <th>5</th>\n",
       "      <td>regDate_n</td>\n",
       "      <td>0.107365</td>\n",
       "    </tr>\n",
       "    <tr>\n",
       "      <th>7</th>\n",
       "      <td>monthsSinceRegDate</td>\n",
       "      <td>0.107365</td>\n",
       "    </tr>\n",
       "    <tr>\n",
       "      <th>0</th>\n",
       "      <td>email</td>\n",
       "      <td>0.000000</td>\n",
       "    </tr>\n",
       "    <tr>\n",
       "      <th>1</th>\n",
       "      <td>flgHardBounce</td>\n",
       "      <td>0.000000</td>\n",
       "    </tr>\n",
       "    <tr>\n",
       "      <th>2</th>\n",
       "      <td>regDate</td>\n",
       "      <td>0.000000</td>\n",
       "    </tr>\n",
       "    <tr>\n",
       "      <th>3</th>\n",
       "      <td>birthDate</td>\n",
       "      <td>0.000000</td>\n",
       "    </tr>\n",
       "    <tr>\n",
       "      <th>4</th>\n",
       "      <td>flgHardBounce_n</td>\n",
       "      <td>0.000000</td>\n",
       "    </tr>\n",
       "  </tbody>\n",
       "</table>\n",
       "</div>"
      ],
      "text/plain": [
       "                  col  perc_missing\n",
       "6         birthDate_n     16.453384\n",
       "5           regDate_n      0.107365\n",
       "7  monthsSinceRegDate      0.107365\n",
       "0               email      0.000000\n",
       "1       flgHardBounce      0.000000\n",
       "2             regDate      0.000000\n",
       "3           birthDate      0.000000\n",
       "4     flgHardBounce_n      0.000000"
      ]
     },
     "execution_count": 21,
     "metadata": {},
     "output_type": "execute_result"
    }
   ],
   "source": [
    "# There are rows with monthsSinceRegDate missing\n",
    "aux_functions.percMissing(hardbounce_2)"
   ]
  },
  {
   "cell_type": "code",
   "execution_count": 22,
   "metadata": {},
   "outputs": [
    {
     "data": {
      "text/plain": [
       "count    482877.000000\n",
       "mean         37.682725\n",
       "std          35.186969\n",
       "min         -97.000000\n",
       "25%          14.000000\n",
       "50%          30.000000\n",
       "75%          45.000000\n",
       "max         283.000000\n",
       "Name: monthsSinceRegDate, dtype: float64"
      ]
     },
     "execution_count": 22,
     "metadata": {},
     "output_type": "execute_result"
    }
   ],
   "source": [
    "# There are rows with months less than 1\n",
    "hardbounce_2['monthsSinceRegDate'][hardbounce_2['monthsSinceRegDate'].notnull()].astype(int).describe()"
   ]
  },
  {
   "cell_type": "code",
   "execution_count": 23,
   "metadata": {},
   "outputs": [],
   "source": [
    "# Fill with 1 if the value < 0\n",
    "hardbounce_2.loc[hardbounce_2.monthsSinceRegDate < 0, 'monthsSinceRegDate'] = 1"
   ]
  },
  {
   "cell_type": "code",
   "execution_count": 24,
   "metadata": {},
   "outputs": [
    {
     "name": "stdout",
     "output_type": "stream",
     "text": [
      "Median: 30.095073820817674\n"
     ]
    }
   ],
   "source": [
    "# Fill with median whem missing\n",
    "print('Median: ' + str(hardbounce_2['monthsSinceRegDate'].median()))\n",
    "hardbounce_2['monthsSinceRegDate'] = hardbounce_2['monthsSinceRegDate'].fillna(hardbounce_2['monthsSinceRegDate'].median())"
   ]
  },
  {
   "cell_type": "code",
   "execution_count": 25,
   "metadata": {},
   "outputs": [],
   "source": [
    "# Convert to int\n",
    "hardbounce_2['monthsSinceRegDate'] = hardbounce_2['monthsSinceRegDate'].astype(int)"
   ]
  },
  {
   "cell_type": "code",
   "execution_count": 26,
   "metadata": {},
   "outputs": [
    {
     "data": {
      "text/plain": [
       "count    483396.000000\n",
       "mean         37.674704\n",
       "std          35.168454\n",
       "min           0.000000\n",
       "25%          14.000000\n",
       "50%          30.000000\n",
       "75%          45.000000\n",
       "max         283.000000\n",
       "Name: monthsSinceRegDate, dtype: float64"
      ]
     },
     "execution_count": 26,
     "metadata": {},
     "output_type": "execute_result"
    }
   ],
   "source": [
    "# Describe monthsSinceRegDate\n",
    "hardbounce_2['monthsSinceRegDate'].describe()"
   ]
  },
  {
   "cell_type": "markdown",
   "metadata": {},
   "source": [
    "## Calculate age"
   ]
  },
  {
   "cell_type": "code",
   "execution_count": 27,
   "metadata": {},
   "outputs": [],
   "source": [
    "from datetime import date\n",
    "\n",
    "curr_date = pd.to_datetime(date.today())"
   ]
  },
  {
   "cell_type": "code",
   "execution_count": 28,
   "metadata": {},
   "outputs": [],
   "source": [
    "hardbounce_2['age'] = (curr_date - hardbounce_2['birthDate_n']) / np.timedelta64(1, 'Y')"
   ]
  },
  {
   "cell_type": "code",
   "execution_count": 29,
   "metadata": {},
   "outputs": [
    {
     "data": {
      "text/html": [
       "<div>\n",
       "<style scoped>\n",
       "    .dataframe tbody tr th:only-of-type {\n",
       "        vertical-align: middle;\n",
       "    }\n",
       "\n",
       "    .dataframe tbody tr th {\n",
       "        vertical-align: top;\n",
       "    }\n",
       "\n",
       "    .dataframe thead th {\n",
       "        text-align: right;\n",
       "    }\n",
       "</style>\n",
       "<table border=\"1\" class=\"dataframe\">\n",
       "  <thead>\n",
       "    <tr style=\"text-align: right;\">\n",
       "      <th></th>\n",
       "      <th>col</th>\n",
       "      <th>perc_missing</th>\n",
       "    </tr>\n",
       "  </thead>\n",
       "  <tbody>\n",
       "    <tr>\n",
       "      <th>6</th>\n",
       "      <td>birthDate_n</td>\n",
       "      <td>16.453384</td>\n",
       "    </tr>\n",
       "    <tr>\n",
       "      <th>8</th>\n",
       "      <td>age</td>\n",
       "      <td>16.453384</td>\n",
       "    </tr>\n",
       "    <tr>\n",
       "      <th>5</th>\n",
       "      <td>regDate_n</td>\n",
       "      <td>0.107365</td>\n",
       "    </tr>\n",
       "    <tr>\n",
       "      <th>0</th>\n",
       "      <td>email</td>\n",
       "      <td>0.000000</td>\n",
       "    </tr>\n",
       "    <tr>\n",
       "      <th>1</th>\n",
       "      <td>flgHardBounce</td>\n",
       "      <td>0.000000</td>\n",
       "    </tr>\n",
       "    <tr>\n",
       "      <th>2</th>\n",
       "      <td>regDate</td>\n",
       "      <td>0.000000</td>\n",
       "    </tr>\n",
       "    <tr>\n",
       "      <th>3</th>\n",
       "      <td>birthDate</td>\n",
       "      <td>0.000000</td>\n",
       "    </tr>\n",
       "    <tr>\n",
       "      <th>4</th>\n",
       "      <td>flgHardBounce_n</td>\n",
       "      <td>0.000000</td>\n",
       "    </tr>\n",
       "    <tr>\n",
       "      <th>7</th>\n",
       "      <td>monthsSinceRegDate</td>\n",
       "      <td>0.000000</td>\n",
       "    </tr>\n",
       "  </tbody>\n",
       "</table>\n",
       "</div>"
      ],
      "text/plain": [
       "                  col  perc_missing\n",
       "6         birthDate_n     16.453384\n",
       "8                 age     16.453384\n",
       "5           regDate_n      0.107365\n",
       "0               email      0.000000\n",
       "1       flgHardBounce      0.000000\n",
       "2             regDate      0.000000\n",
       "3           birthDate      0.000000\n",
       "4     flgHardBounce_n      0.000000\n",
       "7  monthsSinceRegDate      0.000000"
      ]
     },
     "execution_count": 29,
     "metadata": {},
     "output_type": "execute_result"
    }
   ],
   "source": [
    "# There are ages missing\n",
    "aux_functions.percMissing(hardbounce_2)"
   ]
  },
  {
   "cell_type": "code",
   "execution_count": 30,
   "metadata": {},
   "outputs": [
    {
     "data": {
      "text/plain": [
       "count    403861.000000\n",
       "mean         27.492774\n",
       "std          26.469068\n",
       "min        -178.000000\n",
       "25%           2.000000\n",
       "50%          29.000000\n",
       "75%          49.000000\n",
       "max         100.000000\n",
       "Name: age, dtype: float64"
      ]
     },
     "execution_count": 30,
     "metadata": {},
     "output_type": "execute_result"
    }
   ],
   "source": [
    "# There are negative ages\n",
    "hardbounce_2['age'][hardbounce_2['age'].notnull()].astype(int).describe()"
   ]
  },
  {
   "cell_type": "code",
   "execution_count": 31,
   "metadata": {},
   "outputs": [
    {
     "name": "stdout",
     "output_type": "stream",
     "text": [
      "Qty:184985\n",
      "%:38.26779700287135\n"
     ]
    }
   ],
   "source": [
    "# Verify age < 18\n",
    "print('Qty:' + str(len(hardbounce_2[hardbounce_2['age'] < 18])))\n",
    "print('%:' + str((len(hardbounce_2[hardbounce_2['age'] < 18]) / len(hardbounce_2)) * 100 ))"
   ]
  },
  {
   "cell_type": "code",
   "execution_count": 32,
   "metadata": {},
   "outputs": [
    {
     "name": "stdout",
     "output_type": "stream",
     "text": [
      "Median: 47.84492494712417\n"
     ]
    }
   ],
   "source": [
    "# Age median excluding bellow 18\n",
    "age_median = hardbounce_2['age'][hardbounce_2['age'] >= 18].median()\n",
    "print('Median: ' + str(age_median))"
   ]
  },
  {
   "cell_type": "code",
   "execution_count": 33,
   "metadata": {},
   "outputs": [],
   "source": [
    "# fill with median values < 18\n",
    "hardbounce_2.loc[hardbounce_2.age < 18, 'age'] = age_median"
   ]
  },
  {
   "cell_type": "code",
   "execution_count": 34,
   "metadata": {},
   "outputs": [],
   "source": [
    "# fill missing with median\n",
    "hardbounce_2['age'] = hardbounce_2['age'].fillna(age_median)"
   ]
  },
  {
   "cell_type": "code",
   "execution_count": 35,
   "metadata": {},
   "outputs": [],
   "source": [
    "# Convert to int\n",
    "hardbounce_2['age'] = hardbounce_2['age'].astype(int)"
   ]
  },
  {
   "cell_type": "code",
   "execution_count": 36,
   "metadata": {},
   "outputs": [
    {
     "data": {
      "text/plain": [
       "count    483396.000000\n",
       "mean         48.015726\n",
       "std          10.853758\n",
       "min          18.000000\n",
       "25%          47.000000\n",
       "50%          47.000000\n",
       "75%          47.000000\n",
       "max         100.000000\n",
       "Name: age, dtype: float64"
      ]
     },
     "execution_count": 36,
     "metadata": {},
     "output_type": "execute_result"
    }
   ],
   "source": [
    "# Describe age\n",
    "hardbounce_2['age'].describe()"
   ]
  },
  {
   "cell_type": "markdown",
   "metadata": {},
   "source": [
    "## Extract e-mail domain"
   ]
  },
  {
   "cell_type": "code",
   "execution_count": 37,
   "metadata": {},
   "outputs": [],
   "source": [
    "hardbounce_2['emailDomain'] = hardbounce_2['email'].apply(aux_functions.getEmailDomain)"
   ]
  },
  {
   "cell_type": "code",
   "execution_count": 38,
   "metadata": {},
   "outputs": [],
   "source": [
    "# count by domain\n",
    "group_df = pd.DataFrame(hardbounce_2.groupby('emailDomain').count()['email'].sort_values(ascending=False)).reset_index()"
   ]
  },
  {
   "cell_type": "code",
   "execution_count": 39,
   "metadata": {},
   "outputs": [
    {
     "data": {
      "image/png": "[encoded data removed]",
      "text/plain": [
       "<Figure size 432x288 with 1 Axes>"
      ]
     },
     "metadata": {},
     "output_type": "display_data"
    }
   ],
   "source": [
    "# plot top 20 domains\n",
    "sns.set(style=\"whitegrid\")\n",
    "ax = sns.barplot(x=\"email\", y=\"emailDomain\", data=group_df.head(20))"
   ]
  },
  {
   "cell_type": "code",
   "execution_count": 40,
   "metadata": {},
   "outputs": [],
   "source": [
    "# Classify emails different from gmail and hotmail in others\n",
    "hardbounce_2[\"emailDomain_cat\"] =  hardbounce_2[\"emailDomain\"].apply(lambda x: 'others' if (x != 'gmail.com' and x != 'hotmail.com') else x)"
   ]
  },
  {
   "cell_type": "code",
   "execution_count": 41,
   "metadata": {},
   "outputs": [],
   "source": [
    "# count by domain categorized\n",
    "group_df = pd.DataFrame(hardbounce_2.groupby('emailDomain_cat').count()['email'].sort_values(ascending=False)).reset_index()"
   ]
  },
  {
   "cell_type": "code",
   "execution_count": 42,
   "metadata": {},
   "outputs": [
    {
     "data": {
      "image/png": "[encoded data removed]",
      "text/plain": [
       "<Figure size 432x288 with 1 Axes>"
      ]
     },
     "metadata": {},
     "output_type": "display_data"
    }
   ],
   "source": [
    "# plot domains\n",
    "sns.set(style=\"whitegrid\")\n",
    "ax = sns.barplot(x=\"email\", y=\"emailDomain_cat\", data=group_df)"
   ]
  },
  {
   "cell_type": "code",
   "execution_count": 43,
   "metadata": {},
   "outputs": [
    {
     "data": {
      "text/html": [
       "<div>\n",
       "<style scoped>\n",
       "    .dataframe tbody tr th:only-of-type {\n",
       "        vertical-align: middle;\n",
       "    }\n",
       "\n",
       "    .dataframe tbody tr th {\n",
       "        vertical-align: top;\n",
       "    }\n",
       "\n",
       "    .dataframe thead th {\n",
       "        text-align: right;\n",
       "    }\n",
       "</style>\n",
       "<table border=\"1\" class=\"dataframe\">\n",
       "  <thead>\n",
       "    <tr style=\"text-align: right;\">\n",
       "      <th>flgHardBounce_n</th>\n",
       "      <th>0</th>\n",
       "      <th>1</th>\n",
       "    </tr>\n",
       "    <tr>\n",
       "      <th>emailDomain_cat</th>\n",
       "      <th></th>\n",
       "      <th></th>\n",
       "    </tr>\n",
       "  </thead>\n",
       "  <tbody>\n",
       "    <tr>\n",
       "      <th>gmail.com</th>\n",
       "      <td>0.975271</td>\n",
       "      <td>0.024729</td>\n",
       "    </tr>\n",
       "    <tr>\n",
       "      <th>hotmail.com</th>\n",
       "      <td>0.681972</td>\n",
       "      <td>0.318028</td>\n",
       "    </tr>\n",
       "    <tr>\n",
       "      <th>others</th>\n",
       "      <td>0.665049</td>\n",
       "      <td>0.334951</td>\n",
       "    </tr>\n",
       "    <tr>\n",
       "      <th>Total</th>\n",
       "      <td>0.787886</td>\n",
       "      <td>0.212114</td>\n",
       "    </tr>\n",
       "  </tbody>\n",
       "</table>\n",
       "</div>"
      ],
      "text/plain": [
       "flgHardBounce_n         0         1\n",
       "emailDomain_cat                    \n",
       "gmail.com        0.975271  0.024729\n",
       "hotmail.com      0.681972  0.318028\n",
       "others           0.665049  0.334951\n",
       "Total            0.787886  0.212114"
      ]
     },
     "execution_count": 43,
     "metadata": {},
     "output_type": "execute_result"
    }
   ],
   "source": [
    "# Variable Y distribution by domain category\n",
    "aux_functions.freqTable(\n",
    "    [hardbounce_2[\"emailDomain_cat\"]]\n",
    "    ,[hardbounce_2[\"flgHardBounce_n\"]]\n",
    "    ,True\n",
    "    ,\"index\"\n",
    ")"
   ]
  },
  {
   "cell_type": "markdown",
   "metadata": {},
   "source": [
    "## Split domain pieces"
   ]
  },
  {
   "cell_type": "markdown",
   "metadata": {},
   "source": [
    "### Split first domain piece"
   ]
  },
  {
   "cell_type": "code",
   "execution_count": 44,
   "metadata": {},
   "outputs": [],
   "source": [
    "hardbounce_2['emailDomainPiece1'] = hardbounce_2['emailDomain'].apply(aux_functions.getPiece1EmailDomain)"
   ]
  },
  {
   "cell_type": "code",
   "execution_count": 45,
   "metadata": {},
   "outputs": [],
   "source": [
    "# count by domain piece\n",
    "group_df = pd.DataFrame(hardbounce_2.groupby('emailDomainPiece1').count()['email'].sort_values(ascending=False)).reset_index()"
   ]
  },
  {
   "cell_type": "code",
   "execution_count": 46,
   "metadata": {},
   "outputs": [
    {
     "data": {
      "image/png": "[encoded data removed]",
      "text/plain": [
       "<Figure size 432x288 with 1 Axes>"
      ]
     },
     "metadata": {},
     "output_type": "display_data"
    }
   ],
   "source": [
    "# plot top 20 domains\n",
    "sns.set(style=\"whitegrid\")\n",
    "ax = sns.barplot(x=\"email\", y=\"emailDomainPiece1\", data=group_df.head(20))"
   ]
  },
  {
   "cell_type": "code",
   "execution_count": 47,
   "metadata": {},
   "outputs": [],
   "source": [
    "# Create category with domains different from .com because this represents the majority of the dataset rows\n",
    "hardbounce_2[\"emailDomainPiece1\"] =  hardbounce_2[\"emailDomainPiece1\"].apply(lambda x: 'others' if x != 'com' else x)"
   ]
  },
  {
   "cell_type": "code",
   "execution_count": 48,
   "metadata": {},
   "outputs": [
    {
     "data": {
      "text/html": [
       "<div>\n",
       "<style scoped>\n",
       "    .dataframe tbody tr th:only-of-type {\n",
       "        vertical-align: middle;\n",
       "    }\n",
       "\n",
       "    .dataframe tbody tr th {\n",
       "        vertical-align: top;\n",
       "    }\n",
       "\n",
       "    .dataframe thead th {\n",
       "        text-align: right;\n",
       "    }\n",
       "</style>\n",
       "<table border=\"1\" class=\"dataframe\">\n",
       "  <thead>\n",
       "    <tr style=\"text-align: right;\">\n",
       "      <th>flgHardBounce_n</th>\n",
       "      <th>0</th>\n",
       "      <th>1</th>\n",
       "    </tr>\n",
       "    <tr>\n",
       "      <th>emailDomainPiece1</th>\n",
       "      <th></th>\n",
       "      <th></th>\n",
       "    </tr>\n",
       "  </thead>\n",
       "  <tbody>\n",
       "    <tr>\n",
       "      <th>com</th>\n",
       "      <td>0.793368</td>\n",
       "      <td>0.206632</td>\n",
       "    </tr>\n",
       "    <tr>\n",
       "      <th>others</th>\n",
       "      <td>0.593077</td>\n",
       "      <td>0.406923</td>\n",
       "    </tr>\n",
       "    <tr>\n",
       "      <th>Total</th>\n",
       "      <td>0.787886</td>\n",
       "      <td>0.212114</td>\n",
       "    </tr>\n",
       "  </tbody>\n",
       "</table>\n",
       "</div>"
      ],
      "text/plain": [
       "flgHardBounce_n           0         1\n",
       "emailDomainPiece1                    \n",
       "com                0.793368  0.206632\n",
       "others             0.593077  0.406923\n",
       "Total              0.787886  0.212114"
      ]
     },
     "execution_count": 48,
     "metadata": {},
     "output_type": "execute_result"
    }
   ],
   "source": [
    "# Variable Y distribution by domain piece\n",
    "aux_functions.freqTable(\n",
    "    [hardbounce_2[\"emailDomainPiece1\"]]\n",
    "    ,[hardbounce_2[\"flgHardBounce_n\"]]\n",
    "    ,True\n",
    "    ,\"index\"\n",
    ")"
   ]
  },
  {
   "cell_type": "markdown",
   "metadata": {},
   "source": [
    "### Split second domain piece"
   ]
  },
  {
   "cell_type": "code",
   "execution_count": 49,
   "metadata": {},
   "outputs": [],
   "source": [
    "hardbounce_2['emailDomainPiece2'] = hardbounce_2['emailDomain'].apply(aux_functions.getPiece2EmailDomain)"
   ]
  },
  {
   "cell_type": "code",
   "execution_count": 50,
   "metadata": {},
   "outputs": [],
   "source": [
    "# count by domain piece\n",
    "group_df = pd.DataFrame(hardbounce_2.groupby('emailDomainPiece2').count()['email'].sort_values(ascending=False)).reset_index()"
   ]
  },
  {
   "cell_type": "code",
   "execution_count": 51,
   "metadata": {},
   "outputs": [
    {
     "data": {
      "image/png": "[encoded data removed]",
      "text/plain": [
       "<Figure size 432x288 with 1 Axes>"
      ]
     },
     "metadata": {},
     "output_type": "display_data"
    }
   ],
   "source": [
    "# plot top 20 domains\n",
    "sns.set(style=\"whitegrid\")\n",
    "ax = sns.barplot(x=\"email\", y=\"emailDomainPiece2\", data=group_df.head(20))"
   ]
  },
  {
   "cell_type": "code",
   "execution_count": 52,
   "metadata": {},
   "outputs": [],
   "source": [
    "# Create category with domains different from .br and missing because they represents the majority of the dataset rows\n",
    "hardbounce_2[\"emailDomainPiece2\"] =  hardbounce_2[\"emailDomainPiece2\"].apply(lambda x: 'others' if (x != 'missing' and x != 'br') else x)"
   ]
  },
  {
   "cell_type": "code",
   "execution_count": 53,
   "metadata": {},
   "outputs": [
    {
     "data": {
      "text/html": [
       "<div>\n",
       "<style scoped>\n",
       "    .dataframe tbody tr th:only-of-type {\n",
       "        vertical-align: middle;\n",
       "    }\n",
       "\n",
       "    .dataframe tbody tr th {\n",
       "        vertical-align: top;\n",
       "    }\n",
       "\n",
       "    .dataframe thead th {\n",
       "        text-align: right;\n",
       "    }\n",
       "</style>\n",
       "<table border=\"1\" class=\"dataframe\">\n",
       "  <thead>\n",
       "    <tr style=\"text-align: right;\">\n",
       "      <th>flgHardBounce_n</th>\n",
       "      <th>0</th>\n",
       "      <th>1</th>\n",
       "    </tr>\n",
       "    <tr>\n",
       "      <th>emailDomainPiece2</th>\n",
       "      <th></th>\n",
       "      <th></th>\n",
       "    </tr>\n",
       "  </thead>\n",
       "  <tbody>\n",
       "    <tr>\n",
       "      <th>br</th>\n",
       "      <td>0.682245</td>\n",
       "      <td>0.317755</td>\n",
       "    </tr>\n",
       "    <tr>\n",
       "      <th>missing</th>\n",
       "      <td>0.832001</td>\n",
       "      <td>0.167999</td>\n",
       "    </tr>\n",
       "    <tr>\n",
       "      <th>others</th>\n",
       "      <td>0.539600</td>\n",
       "      <td>0.460400</td>\n",
       "    </tr>\n",
       "    <tr>\n",
       "      <th>Total</th>\n",
       "      <td>0.787886</td>\n",
       "      <td>0.212114</td>\n",
       "    </tr>\n",
       "  </tbody>\n",
       "</table>\n",
       "</div>"
      ],
      "text/plain": [
       "flgHardBounce_n           0         1\n",
       "emailDomainPiece2                    \n",
       "br                 0.682245  0.317755\n",
       "missing            0.832001  0.167999\n",
       "others             0.539600  0.460400\n",
       "Total              0.787886  0.212114"
      ]
     },
     "execution_count": 53,
     "metadata": {},
     "output_type": "execute_result"
    }
   ],
   "source": [
    "# Variable Y distribution by domain piece\n",
    "aux_functions.freqTable(\n",
    "    [hardbounce_2[\"emailDomainPiece2\"]]\n",
    "    ,[hardbounce_2[\"flgHardBounce_n\"]]\n",
    "    ,True\n",
    "    ,\"index\"\n",
    ")"
   ]
  },
  {
   "cell_type": "markdown",
   "metadata": {},
   "source": [
    "## Calculates the percentage of numbers in e-mail user"
   ]
  },
  {
   "cell_type": "code",
   "execution_count": 54,
   "metadata": {},
   "outputs": [],
   "source": [
    "hardbounce_2['percNumbersInEmailUser'] = hardbounce['email'].apply(aux_functions.getEmailUser).apply(aux_functions.percentageNumberInStr)"
   ]
  },
  {
   "cell_type": "code",
   "execution_count": 55,
   "metadata": {},
   "outputs": [
    {
     "data": {
      "text/plain": [
       "count    483396.000000\n",
       "mean          0.044993\n",
       "std           0.114386\n",
       "min           0.000000\n",
       "25%           0.000000\n",
       "50%           0.000000\n",
       "75%           0.000000\n",
       "max           1.000000\n",
       "Name: percNumbersInEmailUser, dtype: float64"
      ]
     },
     "execution_count": 55,
     "metadata": {},
     "output_type": "execute_result"
    }
   ],
   "source": [
    "# Describe \n",
    "hardbounce_2['percNumbersInEmailUser'].describe()"
   ]
  },
  {
   "cell_type": "code",
   "execution_count": 56,
   "metadata": {},
   "outputs": [],
   "source": [
    "hardbounce_2['hasNumberInEmailUser'] = hardbounce_2['percNumbersInEmailUser'].apply(lambda x : 1 if x > 0 else 0)"
   ]
  },
  {
   "cell_type": "code",
   "execution_count": 57,
   "metadata": {},
   "outputs": [
    {
     "data": {
      "text/html": [
       "<div>\n",
       "<style scoped>\n",
       "    .dataframe tbody tr th:only-of-type {\n",
       "        vertical-align: middle;\n",
       "    }\n",
       "\n",
       "    .dataframe tbody tr th {\n",
       "        vertical-align: top;\n",
       "    }\n",
       "\n",
       "    .dataframe thead th {\n",
       "        text-align: right;\n",
       "    }\n",
       "</style>\n",
       "<table border=\"1\" class=\"dataframe\">\n",
       "  <thead>\n",
       "    <tr style=\"text-align: right;\">\n",
       "      <th>flgHardBounce_n</th>\n",
       "      <th>0</th>\n",
       "      <th>1</th>\n",
       "    </tr>\n",
       "    <tr>\n",
       "      <th>hasNumberInEmailUser</th>\n",
       "      <th></th>\n",
       "      <th></th>\n",
       "    </tr>\n",
       "  </thead>\n",
       "  <tbody>\n",
       "    <tr>\n",
       "      <th>0</th>\n",
       "      <td>0.777874</td>\n",
       "      <td>0.222126</td>\n",
       "    </tr>\n",
       "    <tr>\n",
       "      <th>1</th>\n",
       "      <td>0.829098</td>\n",
       "      <td>0.170902</td>\n",
       "    </tr>\n",
       "    <tr>\n",
       "      <th>Total</th>\n",
       "      <td>0.787886</td>\n",
       "      <td>0.212114</td>\n",
       "    </tr>\n",
       "  </tbody>\n",
       "</table>\n",
       "</div>"
      ],
      "text/plain": [
       "flgHardBounce_n              0         1\n",
       "hasNumberInEmailUser                    \n",
       "0                     0.777874  0.222126\n",
       "1                     0.829098  0.170902\n",
       "Total                 0.787886  0.212114"
      ]
     },
     "execution_count": 57,
     "metadata": {},
     "output_type": "execute_result"
    }
   ],
   "source": [
    "aux_functions.freqTable(\n",
    "    [hardbounce_2[\"hasNumberInEmailUser\"]]\n",
    "    ,[hardbounce_2[\"flgHardBounce_n\"]]\n",
    "    ,True\n",
    "    ,\"index\"\n",
    ")"
   ]
  },
  {
   "cell_type": "markdown",
   "metadata": {},
   "source": [
    "## Calculate character qty in e-mail user"
   ]
  },
  {
   "cell_type": "code",
   "execution_count": 58,
   "metadata": {},
   "outputs": [],
   "source": [
    "hardbounce_2['emailUserCharQty'] = hardbounce_2['email'].apply(lambda x : len(aux_functions.getEmailUser(x)))"
   ]
  },
  {
   "cell_type": "code",
   "execution_count": 60,
   "metadata": {},
   "outputs": [
    {
     "data": {
      "text/plain": [
       "count    483396.000000\n",
       "mean         11.815222\n",
       "std           3.855330\n",
       "min           0.000000\n",
       "25%           9.000000\n",
       "50%          12.000000\n",
       "75%          14.000000\n",
       "max          51.000000\n",
       "Name: emailUserCharQty, dtype: float64"
      ]
     },
     "execution_count": 60,
     "metadata": {},
     "output_type": "execute_result"
    }
   ],
   "source": [
    "# Describe \n",
    "hardbounce_2['emailUserCharQty'].describe()"
   ]
  },
  {
   "cell_type": "markdown",
   "metadata": {},
   "source": [
    "## Save dataset"
   ]
  },
  {
   "cell_type": "code",
   "execution_count": 64,
   "metadata": {
    "scrolled": false
   },
   "outputs": [
    {
     "data": {
      "text/html": [
       "<div>\n",
       "<style scoped>\n",
       "    .dataframe tbody tr th:only-of-type {\n",
       "        vertical-align: middle;\n",
       "    }\n",
       "\n",
       "    .dataframe tbody tr th {\n",
       "        vertical-align: top;\n",
       "    }\n",
       "\n",
       "    .dataframe thead th {\n",
       "        text-align: right;\n",
       "    }\n",
       "</style>\n",
       "<table border=\"1\" class=\"dataframe\">\n",
       "  <thead>\n",
       "    <tr style=\"text-align: right;\">\n",
       "      <th></th>\n",
       "      <th>emailDomain_cat</th>\n",
       "      <th>emailDomainPiece1</th>\n",
       "      <th>emailDomainPiece2</th>\n",
       "      <th>regDate_n</th>\n",
       "      <th>birthDate_n</th>\n",
       "      <th>monthsSinceRegDate</th>\n",
       "      <th>age</th>\n",
       "      <th>percNumbersInEmailUser</th>\n",
       "      <th>hasNumberInEmailUser</th>\n",
       "      <th>emailUserCharQty</th>\n",
       "      <th>flgHardBounce_n</th>\n",
       "    </tr>\n",
       "  </thead>\n",
       "  <tbody>\n",
       "    <tr>\n",
       "      <th>0</th>\n",
       "      <td>hotmail.com</td>\n",
       "      <td>com</td>\n",
       "      <td>missing</td>\n",
       "      <td>2016-11-02</td>\n",
       "      <td>2016-11-02</td>\n",
       "      <td>36</td>\n",
       "      <td>47</td>\n",
       "      <td>0.000000</td>\n",
       "      <td>0</td>\n",
       "      <td>16</td>\n",
       "      <td>1</td>\n",
       "    </tr>\n",
       "    <tr>\n",
       "      <th>1</th>\n",
       "      <td>gmail.com</td>\n",
       "      <td>com</td>\n",
       "      <td>missing</td>\n",
       "      <td>2013-07-16</td>\n",
       "      <td>1979-04-25</td>\n",
       "      <td>76</td>\n",
       "      <td>40</td>\n",
       "      <td>0.285714</td>\n",
       "      <td>1</td>\n",
       "      <td>7</td>\n",
       "      <td>0</td>\n",
       "    </tr>\n",
       "    <tr>\n",
       "      <th>2</th>\n",
       "      <td>hotmail.com</td>\n",
       "      <td>com</td>\n",
       "      <td>missing</td>\n",
       "      <td>2018-04-21</td>\n",
       "      <td>2018-04-21</td>\n",
       "      <td>19</td>\n",
       "      <td>47</td>\n",
       "      <td>0.000000</td>\n",
       "      <td>0</td>\n",
       "      <td>15</td>\n",
       "      <td>0</td>\n",
       "    </tr>\n",
       "    <tr>\n",
       "      <th>3</th>\n",
       "      <td>hotmail.com</td>\n",
       "      <td>com</td>\n",
       "      <td>missing</td>\n",
       "      <td>2016-06-07</td>\n",
       "      <td>2016-06-07</td>\n",
       "      <td>41</td>\n",
       "      <td>47</td>\n",
       "      <td>0.000000</td>\n",
       "      <td>0</td>\n",
       "      <td>13</td>\n",
       "      <td>1</td>\n",
       "    </tr>\n",
       "    <tr>\n",
       "      <th>4</th>\n",
       "      <td>others</td>\n",
       "      <td>com</td>\n",
       "      <td>br</td>\n",
       "      <td>2018-02-02</td>\n",
       "      <td>1951-08-29</td>\n",
       "      <td>21</td>\n",
       "      <td>68</td>\n",
       "      <td>0.000000</td>\n",
       "      <td>0</td>\n",
       "      <td>8</td>\n",
       "      <td>0</td>\n",
       "    </tr>\n",
       "    <tr>\n",
       "      <th>5</th>\n",
       "      <td>gmail.com</td>\n",
       "      <td>com</td>\n",
       "      <td>missing</td>\n",
       "      <td>2018-01-23</td>\n",
       "      <td>2018-01-23</td>\n",
       "      <td>22</td>\n",
       "      <td>47</td>\n",
       "      <td>0.000000</td>\n",
       "      <td>0</td>\n",
       "      <td>12</td>\n",
       "      <td>0</td>\n",
       "    </tr>\n",
       "    <tr>\n",
       "      <th>6</th>\n",
       "      <td>others</td>\n",
       "      <td>com</td>\n",
       "      <td>br</td>\n",
       "      <td>2017-12-12</td>\n",
       "      <td>2017-12-12</td>\n",
       "      <td>23</td>\n",
       "      <td>47</td>\n",
       "      <td>0.000000</td>\n",
       "      <td>0</td>\n",
       "      <td>13</td>\n",
       "      <td>0</td>\n",
       "    </tr>\n",
       "    <tr>\n",
       "      <th>7</th>\n",
       "      <td>gmail.com</td>\n",
       "      <td>com</td>\n",
       "      <td>missing</td>\n",
       "      <td>2019-05-10</td>\n",
       "      <td>1970-08-15</td>\n",
       "      <td>6</td>\n",
       "      <td>49</td>\n",
       "      <td>0.000000</td>\n",
       "      <td>0</td>\n",
       "      <td>13</td>\n",
       "      <td>0</td>\n",
       "    </tr>\n",
       "    <tr>\n",
       "      <th>8</th>\n",
       "      <td>others</td>\n",
       "      <td>com</td>\n",
       "      <td>br</td>\n",
       "      <td>2019-05-20</td>\n",
       "      <td>2001-01-01</td>\n",
       "      <td>6</td>\n",
       "      <td>18</td>\n",
       "      <td>0.111111</td>\n",
       "      <td>1</td>\n",
       "      <td>9</td>\n",
       "      <td>0</td>\n",
       "    </tr>\n",
       "    <tr>\n",
       "      <th>9</th>\n",
       "      <td>gmail.com</td>\n",
       "      <td>com</td>\n",
       "      <td>missing</td>\n",
       "      <td>2017-09-20</td>\n",
       "      <td>2017-09-20</td>\n",
       "      <td>26</td>\n",
       "      <td>47</td>\n",
       "      <td>0.000000</td>\n",
       "      <td>0</td>\n",
       "      <td>6</td>\n",
       "      <td>0</td>\n",
       "    </tr>\n",
       "  </tbody>\n",
       "</table>\n",
       "</div>"
      ],
      "text/plain": [
       "  emailDomain_cat emailDomainPiece1 emailDomainPiece2  regDate_n birthDate_n  \\\n",
       "0     hotmail.com               com           missing 2016-11-02  2016-11-02   \n",
       "1       gmail.com               com           missing 2013-07-16  1979-04-25   \n",
       "2     hotmail.com               com           missing 2018-04-21  2018-04-21   \n",
       "3     hotmail.com               com           missing 2016-06-07  2016-06-07   \n",
       "4          others               com                br 2018-02-02  1951-08-29   \n",
       "5       gmail.com               com           missing 2018-01-23  2018-01-23   \n",
       "6          others               com                br 2017-12-12  2017-12-12   \n",
       "7       gmail.com               com           missing 2019-05-10  1970-08-15   \n",
       "8          others               com                br 2019-05-20  2001-01-01   \n",
       "9       gmail.com               com           missing 2017-09-20  2017-09-20   \n",
       "\n",
       "   monthsSinceRegDate  age  percNumbersInEmailUser  hasNumberInEmailUser  \\\n",
       "0                  36   47                0.000000                     0   \n",
       "1                  76   40                0.285714                     1   \n",
       "2                  19   47                0.000000                     0   \n",
       "3                  41   47                0.000000                     0   \n",
       "4                  21   68                0.000000                     0   \n",
       "5                  22   47                0.000000                     0   \n",
       "6                  23   47                0.000000                     0   \n",
       "7                   6   49                0.000000                     0   \n",
       "8                   6   18                0.111111                     1   \n",
       "9                  26   47                0.000000                     0   \n",
       "\n",
       "   emailUserCharQty  flgHardBounce_n  \n",
       "0                16                1  \n",
       "1                 7                0  \n",
       "2                15                0  \n",
       "3                13                1  \n",
       "4                 8                0  \n",
       "5                12                0  \n",
       "6                13                0  \n",
       "7                13                0  \n",
       "8                 9                0  \n",
       "9                 6                0  "
      ]
     },
     "execution_count": 64,
     "metadata": {},
     "output_type": "execute_result"
    }
   ],
   "source": [
    "hardbounce_2[['emailDomain_cat', 'emailDomainPiece1', 'emailDomainPiece2', 'regDate_n', 'birthDate_n'\n",
    "             ,'monthsSinceRegDate', 'age', 'percNumbersInEmailUser', 'hasNumberInEmailUser', 'emailUserCharQty'\n",
    "             ,'flgHardBounce_n']].head(10)"
   ]
  },
  {
   "cell_type": "code",
   "execution_count": 66,
   "metadata": {},
   "outputs": [],
   "source": [
    "hardbounce_2[['emailDomain_cat', 'emailDomainPiece1', 'emailDomainPiece2', 'regDate_n', 'birthDate_n'\n",
    "             ,'monthsSinceRegDate', 'age', 'percNumbersInEmailUser', 'hasNumberInEmailUser', 'emailUserCharQty'\n",
    "             ,'flgHardBounce_n']].to_csv('datasets/hardbounce_featureEngineering.csv', sep=';',index=False)"
   ]
  }
 ],
 "metadata": {
  "kernelspec": {
   "display_name": "Python 3",
   "language": "python",
   "name": "python3"
  },
  "language_info": {
   "codemirror_mode": {
    "name": "ipython",
    "version": 3
   },
   "file_extension": ".py",
   "mimetype": "text/x-python",
   "name": "python",
   "nbconvert_exporter": "python",
   "pygments_lexer": "ipython3",
   "version": "3.7.3"
  }
 },
 "nbformat": 4,
 "nbformat_minor": 2
}
